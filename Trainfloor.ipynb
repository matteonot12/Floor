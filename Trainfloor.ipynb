{
  "nbformat": 4,
  "nbformat_minor": 0,
  "metadata": {
    "colab": {
      "provenance": [],
      "machine_shape": "hm",
      "gpuType": "A100"
    },
    "kernelspec": {
      "name": "python3",
      "display_name": "Python 3"
    },
    "language_info": {
      "name": "python"
    },
    "accelerator": "GPU"
  },
  "cells": [
    {
      "cell_type": "code",
      "execution_count": 1,
      "metadata": {
        "id": "YuZ5qdpQ2-Zk",
        "outputId": "8dd2c314-7b76-4df1-caba-ba56fc14b185",
        "colab": {
          "base_uri": "https://localhost:8080/"
        }
      },
      "outputs": [
        {
          "output_type": "stream",
          "name": "stdout",
          "text": [
            "Requirement already satisfied: tensorflow in /usr/local/lib/python3.10/dist-packages (2.12.0)\n",
            "Requirement already satisfied: absl-py>=1.0.0 in /usr/local/lib/python3.10/dist-packages (from tensorflow) (1.4.0)\n",
            "Requirement already satisfied: astunparse>=1.6.0 in /usr/local/lib/python3.10/dist-packages (from tensorflow) (1.6.3)\n",
            "Requirement already satisfied: flatbuffers>=2.0 in /usr/local/lib/python3.10/dist-packages (from tensorflow) (23.5.26)\n",
            "Requirement already satisfied: gast<=0.4.0,>=0.2.1 in /usr/local/lib/python3.10/dist-packages (from tensorflow) (0.4.0)\n",
            "Requirement already satisfied: google-pasta>=0.1.1 in /usr/local/lib/python3.10/dist-packages (from tensorflow) (0.2.0)\n",
            "Requirement already satisfied: grpcio<2.0,>=1.24.3 in /usr/local/lib/python3.10/dist-packages (from tensorflow) (1.56.2)\n",
            "Requirement already satisfied: h5py>=2.9.0 in /usr/local/lib/python3.10/dist-packages (from tensorflow) (3.9.0)\n",
            "Requirement already satisfied: jax>=0.3.15 in /usr/local/lib/python3.10/dist-packages (from tensorflow) (0.4.14)\n",
            "Requirement already satisfied: keras<2.13,>=2.12.0 in /usr/local/lib/python3.10/dist-packages (from tensorflow) (2.12.0)\n",
            "Requirement already satisfied: libclang>=13.0.0 in /usr/local/lib/python3.10/dist-packages (from tensorflow) (16.0.6)\n",
            "Requirement already satisfied: numpy<1.24,>=1.22 in /usr/local/lib/python3.10/dist-packages (from tensorflow) (1.23.5)\n",
            "Requirement already satisfied: opt-einsum>=2.3.2 in /usr/local/lib/python3.10/dist-packages (from tensorflow) (3.3.0)\n",
            "Requirement already satisfied: packaging in /usr/local/lib/python3.10/dist-packages (from tensorflow) (23.1)\n",
            "Requirement already satisfied: protobuf!=4.21.0,!=4.21.1,!=4.21.2,!=4.21.3,!=4.21.4,!=4.21.5,<5.0.0dev,>=3.20.3 in /usr/local/lib/python3.10/dist-packages (from tensorflow) (3.20.3)\n",
            "Requirement already satisfied: setuptools in /usr/local/lib/python3.10/dist-packages (from tensorflow) (67.7.2)\n",
            "Requirement already satisfied: six>=1.12.0 in /usr/local/lib/python3.10/dist-packages (from tensorflow) (1.16.0)\n",
            "Requirement already satisfied: tensorboard<2.13,>=2.12 in /usr/local/lib/python3.10/dist-packages (from tensorflow) (2.12.3)\n",
            "Requirement already satisfied: tensorflow-estimator<2.13,>=2.12.0 in /usr/local/lib/python3.10/dist-packages (from tensorflow) (2.12.0)\n",
            "Requirement already satisfied: termcolor>=1.1.0 in /usr/local/lib/python3.10/dist-packages (from tensorflow) (2.3.0)\n",
            "Requirement already satisfied: typing-extensions>=3.6.6 in /usr/local/lib/python3.10/dist-packages (from tensorflow) (4.7.1)\n",
            "Requirement already satisfied: wrapt<1.15,>=1.11.0 in /usr/local/lib/python3.10/dist-packages (from tensorflow) (1.14.1)\n",
            "Requirement already satisfied: tensorflow-io-gcs-filesystem>=0.23.1 in /usr/local/lib/python3.10/dist-packages (from tensorflow) (0.33.0)\n",
            "Requirement already satisfied: wheel<1.0,>=0.23.0 in /usr/local/lib/python3.10/dist-packages (from astunparse>=1.6.0->tensorflow) (0.41.1)\n",
            "Requirement already satisfied: ml-dtypes>=0.2.0 in /usr/local/lib/python3.10/dist-packages (from jax>=0.3.15->tensorflow) (0.2.0)\n",
            "Requirement already satisfied: scipy>=1.7 in /usr/local/lib/python3.10/dist-packages (from jax>=0.3.15->tensorflow) (1.10.1)\n",
            "Requirement already satisfied: google-auth<3,>=1.6.3 in /usr/local/lib/python3.10/dist-packages (from tensorboard<2.13,>=2.12->tensorflow) (2.17.3)\n",
            "Requirement already satisfied: google-auth-oauthlib<1.1,>=0.5 in /usr/local/lib/python3.10/dist-packages (from tensorboard<2.13,>=2.12->tensorflow) (1.0.0)\n",
            "Requirement already satisfied: markdown>=2.6.8 in /usr/local/lib/python3.10/dist-packages (from tensorboard<2.13,>=2.12->tensorflow) (3.4.4)\n",
            "Requirement already satisfied: requests<3,>=2.21.0 in /usr/local/lib/python3.10/dist-packages (from tensorboard<2.13,>=2.12->tensorflow) (2.31.0)\n",
            "Requirement already satisfied: tensorboard-data-server<0.8.0,>=0.7.0 in /usr/local/lib/python3.10/dist-packages (from tensorboard<2.13,>=2.12->tensorflow) (0.7.1)\n",
            "Requirement already satisfied: werkzeug>=1.0.1 in /usr/local/lib/python3.10/dist-packages (from tensorboard<2.13,>=2.12->tensorflow) (2.3.6)\n",
            "Requirement already satisfied: cachetools<6.0,>=2.0.0 in /usr/local/lib/python3.10/dist-packages (from google-auth<3,>=1.6.3->tensorboard<2.13,>=2.12->tensorflow) (5.3.1)\n",
            "Requirement already satisfied: pyasn1-modules>=0.2.1 in /usr/local/lib/python3.10/dist-packages (from google-auth<3,>=1.6.3->tensorboard<2.13,>=2.12->tensorflow) (0.3.0)\n",
            "Requirement already satisfied: rsa<5,>=3.1.4 in /usr/local/lib/python3.10/dist-packages (from google-auth<3,>=1.6.3->tensorboard<2.13,>=2.12->tensorflow) (4.9)\n",
            "Requirement already satisfied: requests-oauthlib>=0.7.0 in /usr/local/lib/python3.10/dist-packages (from google-auth-oauthlib<1.1,>=0.5->tensorboard<2.13,>=2.12->tensorflow) (1.3.1)\n",
            "Requirement already satisfied: charset-normalizer<4,>=2 in /usr/local/lib/python3.10/dist-packages (from requests<3,>=2.21.0->tensorboard<2.13,>=2.12->tensorflow) (3.2.0)\n",
            "Requirement already satisfied: idna<4,>=2.5 in /usr/local/lib/python3.10/dist-packages (from requests<3,>=2.21.0->tensorboard<2.13,>=2.12->tensorflow) (3.4)\n",
            "Requirement already satisfied: urllib3<3,>=1.21.1 in /usr/local/lib/python3.10/dist-packages (from requests<3,>=2.21.0->tensorboard<2.13,>=2.12->tensorflow) (2.0.4)\n",
            "Requirement already satisfied: certifi>=2017.4.17 in /usr/local/lib/python3.10/dist-packages (from requests<3,>=2.21.0->tensorboard<2.13,>=2.12->tensorflow) (2023.7.22)\n",
            "Requirement already satisfied: MarkupSafe>=2.1.1 in /usr/local/lib/python3.10/dist-packages (from werkzeug>=1.0.1->tensorboard<2.13,>=2.12->tensorflow) (2.1.3)\n",
            "Requirement already satisfied: pyasn1<0.6.0,>=0.4.6 in /usr/local/lib/python3.10/dist-packages (from pyasn1-modules>=0.2.1->google-auth<3,>=1.6.3->tensorboard<2.13,>=2.12->tensorflow) (0.5.0)\n",
            "Requirement already satisfied: oauthlib>=3.0.0 in /usr/local/lib/python3.10/dist-packages (from requests-oauthlib>=0.7.0->google-auth-oauthlib<1.1,>=0.5->tensorboard<2.13,>=2.12->tensorflow) (3.2.2)\n"
          ]
        }
      ],
      "source": [
        "# Install TensorFlow if not already available\n",
        "!pip install tensorflow\n"
      ]
    },
    {
      "cell_type": "code",
      "source": [
        "import numpy as np\n",
        "import tensorflow as tf\n",
        "import os\n",
        "import cv2\n",
        "\n",
        "from tensorflow.keras.layers import Input, Conv2D, MaxPooling2D, UpSampling2D\n",
        "from tensorflow.keras.models import Model\n"
      ],
      "metadata": {
        "id": "fPKQ7HXH2_Xf"
      },
      "execution_count": 2,
      "outputs": []
    },
    {
      "cell_type": "code",
      "source": [
        "# Encoder\n",
        "input_img = Input(shape=(573, 917, 3))\n",
        "x = Conv2D(32, (3, 3), activation='relu', padding='same')(input_img)\n",
        "x = Conv2D(64, (3, 3), activation='relu', padding='same')(x)\n",
        "\n",
        "# Decoder\n",
        "x = Conv2D(64, (3, 3), activation='relu', padding='same')(x)\n",
        "x = Conv2D(32, (3, 3), activation='relu', padding='same')(x)\n",
        "decoded = Conv2D(3, (3, 3), activation='sigmoid', padding='same')(x)\n",
        "\n",
        "# Autoencoder model\n",
        "autoencoder = Model(input_img, decoded)\n",
        "autoencoder.compile(optimizer='adam', loss='mean_squared_error')\n",
        "autoencoder.summary()\n"
      ],
      "metadata": {
        "id": "LK7COn653CAi",
        "outputId": "9ccc292e-a251-460b-f8c8-43720e924a1f",
        "colab": {
          "base_uri": "https://localhost:8080/"
        }
      },
      "execution_count": 3,
      "outputs": [
        {
          "output_type": "stream",
          "name": "stdout",
          "text": [
            "Model: \"model\"\n",
            "_________________________________________________________________\n",
            " Layer (type)                Output Shape              Param #   \n",
            "=================================================================\n",
            " input_1 (InputLayer)        [(None, 573, 917, 3)]     0         \n",
            "                                                                 \n",
            " conv2d (Conv2D)             (None, 573, 917, 32)      896       \n",
            "                                                                 \n",
            " conv2d_1 (Conv2D)           (None, 573, 917, 64)      18496     \n",
            "                                                                 \n",
            " conv2d_2 (Conv2D)           (None, 573, 917, 64)      36928     \n",
            "                                                                 \n",
            " conv2d_3 (Conv2D)           (None, 573, 917, 32)      18464     \n",
            "                                                                 \n",
            " conv2d_4 (Conv2D)           (None, 573, 917, 3)       867       \n",
            "                                                                 \n",
            "=================================================================\n",
            "Total params: 75,651\n",
            "Trainable params: 75,651\n",
            "Non-trainable params: 0\n",
            "_________________________________________________________________\n"
          ]
        }
      ]
    },
    {
      "cell_type": "code",
      "source": [
        "!unzip augmented_floor_images.zip\n"
      ],
      "metadata": {
        "id": "ICzJk14r4oNH"
      },
      "execution_count": null,
      "outputs": []
    },
    {
      "cell_type": "code",
      "source": [
        "# Load the images\n",
        "image_files = [f for f in os.listdir(\"/content/\") if f.startswith(\"augmented_image\")]\n",
        "images = [cv2.imread(os.path.join(\"/content/\", image_file)) for image_file in image_files]\n",
        "images = [cv2.cvtColor(img, cv2.COLOR_BGR2RGB) for img in images]\n",
        "\n",
        "# Convert to numpy array and normalize\n",
        "train_data = np.array(images) / 255.0\n"
      ],
      "metadata": {
        "id": "NYTf2p_i5trz"
      },
      "execution_count": 6,
      "outputs": []
    },
    {
      "cell_type": "code",
      "source": [
        "autoencoder.fit(train_data, train_data, epochs=50, batch_size=8)\n"
      ],
      "metadata": {
        "colab": {
          "base_uri": "https://localhost:8080/"
        },
        "id": "WSyFuCZ83JSo",
        "outputId": "d02d3bf2-aecd-4bc5-f2bd-e0f0aacc4122"
      },
      "execution_count": 7,
      "outputs": [
        {
          "output_type": "stream",
          "name": "stdout",
          "text": [
            "Epoch 1/50\n",
            "3/3 [==============================] - 21s 2s/step - loss: 0.1174\n",
            "Epoch 2/50\n",
            "3/3 [==============================] - 0s 84ms/step - loss: 0.0407\n",
            "Epoch 3/50\n",
            "3/3 [==============================] - 0s 88ms/step - loss: 0.0358\n",
            "Epoch 4/50\n",
            "3/3 [==============================] - 0s 81ms/step - loss: 0.0358\n",
            "Epoch 5/50\n",
            "3/3 [==============================] - 0s 82ms/step - loss: 0.0257\n",
            "Epoch 6/50\n",
            "3/3 [==============================] - 0s 82ms/step - loss: 0.0255\n",
            "Epoch 7/50\n",
            "3/3 [==============================] - 0s 81ms/step - loss: 0.0250\n",
            "Epoch 8/50\n",
            "3/3 [==============================] - 0s 82ms/step - loss: 0.0234\n",
            "Epoch 9/50\n",
            "3/3 [==============================] - 0s 81ms/step - loss: 0.0241\n",
            "Epoch 10/50\n",
            "3/3 [==============================] - 0s 82ms/step - loss: 0.0222\n",
            "Epoch 11/50\n",
            "3/3 [==============================] - 0s 81ms/step - loss: 0.0212\n",
            "Epoch 12/50\n",
            "3/3 [==============================] - 0s 88ms/step - loss: 0.0209\n",
            "Epoch 13/50\n",
            "3/3 [==============================] - 0s 82ms/step - loss: 0.0203\n",
            "Epoch 14/50\n",
            "3/3 [==============================] - 0s 82ms/step - loss: 0.0205\n",
            "Epoch 15/50\n",
            "3/3 [==============================] - 0s 86ms/step - loss: 0.0157\n",
            "Epoch 16/50\n",
            "3/3 [==============================] - 0s 81ms/step - loss: 0.0131\n",
            "Epoch 17/50\n",
            "3/3 [==============================] - 0s 84ms/step - loss: 0.0102\n",
            "Epoch 18/50\n",
            "3/3 [==============================] - 0s 81ms/step - loss: 0.0077\n",
            "Epoch 19/50\n",
            "3/3 [==============================] - 0s 81ms/step - loss: 0.0092\n",
            "Epoch 20/50\n",
            "3/3 [==============================] - 0s 84ms/step - loss: 0.0128\n",
            "Epoch 21/50\n",
            "3/3 [==============================] - 0s 82ms/step - loss: 0.0084\n",
            "Epoch 22/50\n",
            "3/3 [==============================] - 0s 81ms/step - loss: 0.0061\n",
            "Epoch 23/50\n",
            "3/3 [==============================] - 0s 82ms/step - loss: 0.0067\n",
            "Epoch 24/50\n",
            "3/3 [==============================] - 0s 82ms/step - loss: 0.0066\n",
            "Epoch 25/50\n",
            "3/3 [==============================] - 0s 82ms/step - loss: 0.0076\n",
            "Epoch 26/50\n",
            "3/3 [==============================] - 0s 84ms/step - loss: 0.0040\n",
            "Epoch 27/50\n",
            "3/3 [==============================] - 0s 82ms/step - loss: 0.0040\n",
            "Epoch 28/50\n",
            "3/3 [==============================] - 0s 82ms/step - loss: 0.0035\n",
            "Epoch 29/50\n",
            "3/3 [==============================] - 0s 82ms/step - loss: 0.0037\n",
            "Epoch 30/50\n",
            "3/3 [==============================] - 0s 85ms/step - loss: 0.0048\n",
            "Epoch 31/50\n",
            "3/3 [==============================] - 0s 82ms/step - loss: 0.0039\n",
            "Epoch 32/50\n",
            "3/3 [==============================] - 0s 82ms/step - loss: 0.0035\n",
            "Epoch 33/50\n",
            "3/3 [==============================] - 0s 86ms/step - loss: 0.0035\n",
            "Epoch 34/50\n",
            "3/3 [==============================] - 0s 84ms/step - loss: 0.0040\n",
            "Epoch 35/50\n",
            "3/3 [==============================] - 0s 83ms/step - loss: 0.0034\n",
            "Epoch 36/50\n",
            "3/3 [==============================] - 0s 82ms/step - loss: 0.0021\n",
            "Epoch 37/50\n",
            "3/3 [==============================] - 0s 83ms/step - loss: 0.0024\n",
            "Epoch 38/50\n",
            "3/3 [==============================] - 0s 83ms/step - loss: 0.0019\n",
            "Epoch 39/50\n",
            "3/3 [==============================] - 0s 85ms/step - loss: 0.0019\n",
            "Epoch 40/50\n",
            "3/3 [==============================] - 0s 82ms/step - loss: 0.0019\n",
            "Epoch 41/50\n",
            "3/3 [==============================] - 0s 86ms/step - loss: 0.0018\n",
            "Epoch 42/50\n",
            "3/3 [==============================] - 0s 86ms/step - loss: 0.0017\n",
            "Epoch 43/50\n",
            "3/3 [==============================] - 0s 86ms/step - loss: 0.0015\n",
            "Epoch 44/50\n",
            "3/3 [==============================] - 0s 82ms/step - loss: 0.0015\n",
            "Epoch 45/50\n",
            "3/3 [==============================] - 0s 82ms/step - loss: 0.0014\n",
            "Epoch 46/50\n",
            "3/3 [==============================] - 0s 86ms/step - loss: 0.0013\n",
            "Epoch 47/50\n",
            "3/3 [==============================] - 0s 82ms/step - loss: 0.0012\n",
            "Epoch 48/50\n",
            "3/3 [==============================] - 0s 82ms/step - loss: 0.0013\n",
            "Epoch 49/50\n",
            "3/3 [==============================] - 0s 82ms/step - loss: 0.0012\n",
            "Epoch 50/50\n",
            "3/3 [==============================] - 0s 82ms/step - loss: 0.0020\n"
          ]
        },
        {
          "output_type": "execute_result",
          "data": {
            "text/plain": [
              "<keras.callbacks.History at 0x7899402b6200>"
            ]
          },
          "metadata": {},
          "execution_count": 7
        }
      ]
    },
    {
      "cell_type": "code",
      "source": [
        "autoencoder.save(\"autoencoder_model.h5\")\n"
      ],
      "metadata": {
        "id": "jUWe7slC3KeP"
      },
      "execution_count": null,
      "outputs": []
    }
  ]
}